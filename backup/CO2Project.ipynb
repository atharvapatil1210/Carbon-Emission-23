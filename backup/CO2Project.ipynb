{
  "nbformat": 4,
  "nbformat_minor": 0,
  "metadata": {
    "colab": {
      "provenance": [],
      "gpuType": "T4"
    },
    "kernelspec": {
      "name": "python3",
      "display_name": "Python 3"
    },
    "language_info": {
      "name": "python"
    },
    "accelerator": "GPU"
  },
  "cells": [
    {
      "cell_type": "code",
      "execution_count": null,
      "metadata": {
        "id": "Me4vHVVrR2dV"
      },
      "outputs": [],
      "source": [
        "import pandas as pd"
      ]
    },
    {
      "cell_type": "code",
      "source": [
        "# Load the datasets (CSV files)\n",
        "manufacturing_df = pd.read_csv(\"/content/dataset_csv/Manufacturing-Operations-mar-25.csv\")\n",
        "logistics_df = pd.read_csv(\"/content/dataset_csv/Supply-Chain-Logistics-mar-25.csv\")\n",
        "offices_df = pd.read_csv(\"/content/dataset_csv/Offices-Facilities-mar-25.csv\")\n",
        "employee_df = pd.read_csv(\"/content/dataset_csv/Employee-Commute-Travel-mar-25.csv\")\n",
        "product_df = pd.read_csv(\"/content/dataset_csv/Product-Usage-mar-25.csv\")\n",
        "rnd_df = pd.read_csv(\"/content/dataset_csv/RnD-Activities-mar-25.csv\")\n",
        "iot_df = pd.read_csv(\"/content/dataset_csv/IoT-Integrations-mar-25.csv\")\n",
        "electricity_bills_df = pd.read_csv(\"/content/dataset_csv/Energy-Bills-mar-25.csv\")"
      ],
      "metadata": {
        "id": "deT1mg5TSgAi"
      },
      "execution_count": null,
      "outputs": []
    },
    {
      "cell_type": "markdown",
      "source": [
        "Extract relevant CO2 emissions columns from each dataset (assuming they have 'CO2 Emissions' column)\n",
        "\n",
        "In case column names are different, adjust as necessary.\n"
      ],
      "metadata": {
        "id": "DLeNFJc2bhhj"
      }
    },
    {
      "cell_type": "code",
      "source": [
        "# Manufacturing Operations (assuming CO2 Emissions column is 'CO2 Emissions (kg)')\n",
        "manufacturing_emissions = manufacturing_df[['Date', 'CO2 Emissions (kg)']]"
      ],
      "metadata": {
        "id": "eBou_X7MV5Qa"
      },
      "execution_count": null,
      "outputs": []
    },
    {
      "cell_type": "code",
      "source": [
        "# Supply Chain and Logistics (assuming CO2 Emissions column is 'CO2 Emissions (kg CO2)' or similar)\n",
        "# Check the actual column name in your CSV file for logistics data.\n",
        "# Here, we assume the correct column name is \"CO2 Emissions (kg CO2)\"\n",
        "logistics_emissions = logistics_df[['Date', 'CO2 Emissions (kg)']]"
      ],
      "metadata": {
        "id": "W_YOqqc6b-zQ"
      },
      "execution_count": null,
      "outputs": []
    },
    {
      "cell_type": "code",
      "source": [
        "# Offices and Facilities (assuming CO2 Emissions column is 'CO2 Emissions (kg)')\n",
        "offices_emissions = offices_df[['Date', 'CO2 Emissions (kg)']]"
      ],
      "metadata": {
        "id": "D_wu2ekrcDNo"
      },
      "execution_count": null,
      "outputs": []
    },
    {
      "cell_type": "code",
      "source": [
        "# Employee Commuting (assuming CO2 Emissions column is 'CO2 Emissions (kg)')\n",
        "employee_emissions = employee_df[['Date', 'CO2 Emissions (kg)']]"
      ],
      "metadata": {
        "id": "recuzM16c6Y4"
      },
      "execution_count": null,
      "outputs": []
    },
    {
      "cell_type": "code",
      "source": [
        "# Product Use and End-of-Life (assuming CO2 Emissions column is 'CO2 Emissions from Product Use (kg CO2)')\n",
        "product_emissions = product_df[['Date','Product ID', 'CO2 Emissions from Product Use (kg CO2)']]"
      ],
      "metadata": {
        "id": "lF6UKmVsdGwj"
      },
      "execution_count": null,
      "outputs": []
    },
    {
      "cell_type": "code",
      "source": [
        "# rnd_emissions = rnd_df[['Date', 'CO2 Emissions (kg)']]  # This line caused the error\n",
        "rnd_emissions = rnd_df[['Date', 'CO2 Emissions (kg)']]  # Changed to the correct column name"
      ],
      "metadata": {
        "id": "1gcX0eLmdN8r"
      },
      "execution_count": null,
      "outputs": []
    },
    {
      "cell_type": "code",
      "source": [
        "# IoT Integrations (assuming CO2 Emissions column is 'CO2 Emissions (kg CO2)')\n",
        "iot_emissions = iot_df[['Date', 'CO2 Emissions (kg CO2)']]"
      ],
      "metadata": {
        "id": "8-Rf9XkCdQlw"
      },
      "execution_count": null,
      "outputs": []
    },
    {
      "cell_type": "code",
      "source": [
        "# Electricity Bills (assuming CO2 Emissions column is 'CO2 Emissions (kg CO2)')\n",
        "electricity_bills_emissions = electricity_bills_df[['Date', 'CO2 Emissions (kg CO2)']]"
      ],
      "metadata": {
        "id": "MoFqxH9JdS4K"
      },
      "execution_count": null,
      "outputs": []
    },
    {
      "cell_type": "markdown",
      "source": [
        "# Categorizing into Scopes\n",
        "\n",
        "To categorize the emissions into **Scope 1**, **Scope 2**, or **Scope 3** based on the sources of emissions, we need to understand the three scopes first:\n",
        "1.\t**Scope 1:** Direct emissions from owned or controlled sources.\n",
        "  * These could be from fuel consumption in company-owned vehicles or facilities, industrial processes, etc.\n",
        "2.\t**Scope 2:** Indirect emissions from the generation of purchased electricity consumed by the company.\n",
        "  * These are emissions from electricity or heat purchased for your own use, but the emissions are produced at the energy generation point.\n",
        "3.\t**Scope 3:** All other indirect emissions that occur in the value chain, both upstream and downstream.\n",
        "  * This includes emissions from transportation and distribution (not owned or controlled by the company), employee commuting, product use, supply chain, business travel, waste disposal, etc.\n",
        "**Steps to Categorize Emissions**\n",
        "1.\t**Manufacturing Operations:** Likely **Scope 1** (direct emissions from facilities, machinery, etc.).\n",
        "2.\t**Logistics / Supply Chain:** Likely **Scope 3** (indirect emissions from transportation and distribution).\n",
        "3.\t**Offices / Facilities:** **Scope 2** (electricity use in buildings).\n",
        "4.\t**Employee Commuting:** **Scope 3** (indirect emissions from employee travel).\n",
        "5.\t**Product End-of-Life:** **Scope 3** (indirect emissions from product disposal).\n",
        "6.\t**R&D Activities:** Could be **Scope 1** or **Scope 3**, depending on whether the R&D activities involve direct emissions or the emission impacts of outsourced processes.\n",
        "7.\t**IoT Integrations:** Likely **Scope 3**, if it involves external services.\n",
        "8.\t**Electricity Bills:** **Scope 2** (emissions from purchased electricity).\n"
      ],
      "metadata": {
        "id": "Xp3hkYpll4DV"
      }
    },
    {
      "cell_type": "code",
      "source": [
        "# Define the scope for each dataset based on the emission source\n",
        "def categorize_scope(source):\n",
        "    if source in ['manufacturing', 'rnd']:\n",
        "        return 'Scope 1'  # Direct emissions from company operations\n",
        "    elif source in ['electricity_bills', 'offices']:\n",
        "        return 'Scope 2'  # Indirect emissions from purchased electricity\n",
        "    elif source in ['logistics', 'employee', 'product', 'iot']:\n",
        "        return 'Scope 3'  # Indirect emissions from the value chain"
      ],
      "metadata": {
        "id": "tDA5U0IkoI2H"
      },
      "execution_count": null,
      "outputs": []
    },
    {
      "cell_type": "code",
      "source": [
        "# Add Scope column to each dataset\n",
        "manufacturing_emissions['Scope'] = 'Scope 1'\n",
        "logistics_emissions['Scope'] = 'Scope 3'\n",
        "offices_emissions['Scope'] = 'Scope 2'\n",
        "employee_emissions['Scope'] = 'Scope 3'\n",
        "product_emissions['Scope'] = 'Scope 3'\n",
        "rnd_emissions['Scope'] = 'Scope 1'\n",
        "iot_emissions['Scope'] = 'Scope 3'\n",
        "electricity_bills_emissions['Scope'] = 'Scope 2'"
      ],
      "metadata": {
        "colab": {
          "base_uri": "https://localhost:8080/"
        },
        "id": "D56xKy35oQKF",
        "outputId": "7f49bbe2-ec19-4521-9eef-affc47035302"
      },
      "execution_count": null,
      "outputs": [
        {
          "output_type": "stream",
          "name": "stderr",
          "text": [
            "<ipython-input-48-0162c3ca8c7b>:2: SettingWithCopyWarning: \n",
            "A value is trying to be set on a copy of a slice from a DataFrame.\n",
            "Try using .loc[row_indexer,col_indexer] = value instead\n",
            "\n",
            "See the caveats in the documentation: https://pandas.pydata.org/pandas-docs/stable/user_guide/indexing.html#returning-a-view-versus-a-copy\n",
            "  manufacturing_emissions['Scope'] = 'Scope 1'\n",
            "<ipython-input-48-0162c3ca8c7b>:3: SettingWithCopyWarning: \n",
            "A value is trying to be set on a copy of a slice from a DataFrame.\n",
            "Try using .loc[row_indexer,col_indexer] = value instead\n",
            "\n",
            "See the caveats in the documentation: https://pandas.pydata.org/pandas-docs/stable/user_guide/indexing.html#returning-a-view-versus-a-copy\n",
            "  logistics_emissions['Scope'] = 'Scope 3'\n",
            "<ipython-input-48-0162c3ca8c7b>:4: SettingWithCopyWarning: \n",
            "A value is trying to be set on a copy of a slice from a DataFrame.\n",
            "Try using .loc[row_indexer,col_indexer] = value instead\n",
            "\n",
            "See the caveats in the documentation: https://pandas.pydata.org/pandas-docs/stable/user_guide/indexing.html#returning-a-view-versus-a-copy\n",
            "  offices_emissions['Scope'] = 'Scope 2'\n",
            "<ipython-input-48-0162c3ca8c7b>:5: SettingWithCopyWarning: \n",
            "A value is trying to be set on a copy of a slice from a DataFrame.\n",
            "Try using .loc[row_indexer,col_indexer] = value instead\n",
            "\n",
            "See the caveats in the documentation: https://pandas.pydata.org/pandas-docs/stable/user_guide/indexing.html#returning-a-view-versus-a-copy\n",
            "  employee_emissions['Scope'] = 'Scope 3'\n",
            "<ipython-input-48-0162c3ca8c7b>:6: SettingWithCopyWarning: \n",
            "A value is trying to be set on a copy of a slice from a DataFrame.\n",
            "Try using .loc[row_indexer,col_indexer] = value instead\n",
            "\n",
            "See the caveats in the documentation: https://pandas.pydata.org/pandas-docs/stable/user_guide/indexing.html#returning-a-view-versus-a-copy\n",
            "  product_emissions['Scope'] = 'Scope 3'\n",
            "<ipython-input-48-0162c3ca8c7b>:7: SettingWithCopyWarning: \n",
            "A value is trying to be set on a copy of a slice from a DataFrame.\n",
            "Try using .loc[row_indexer,col_indexer] = value instead\n",
            "\n",
            "See the caveats in the documentation: https://pandas.pydata.org/pandas-docs/stable/user_guide/indexing.html#returning-a-view-versus-a-copy\n",
            "  rnd_emissions['Scope'] = 'Scope 1'\n",
            "<ipython-input-48-0162c3ca8c7b>:8: SettingWithCopyWarning: \n",
            "A value is trying to be set on a copy of a slice from a DataFrame.\n",
            "Try using .loc[row_indexer,col_indexer] = value instead\n",
            "\n",
            "See the caveats in the documentation: https://pandas.pydata.org/pandas-docs/stable/user_guide/indexing.html#returning-a-view-versus-a-copy\n",
            "  iot_emissions['Scope'] = 'Scope 3'\n",
            "<ipython-input-48-0162c3ca8c7b>:9: SettingWithCopyWarning: \n",
            "A value is trying to be set on a copy of a slice from a DataFrame.\n",
            "Try using .loc[row_indexer,col_indexer] = value instead\n",
            "\n",
            "See the caveats in the documentation: https://pandas.pydata.org/pandas-docs/stable/user_guide/indexing.html#returning-a-view-versus-a-copy\n",
            "  electricity_bills_emissions['Scope'] = 'Scope 2'\n"
          ]
        }
      ]
    },
    {
      "cell_type": "markdown",
      "source": [
        "Combine all dataframes into one by 'Date'"
      ],
      "metadata": {
        "id": "h3gAlTCqdXhu"
      }
    },
    {
      "cell_type": "code",
      "source": [
        "# Ensure the 'Date' column is consistent and formatted similarly across all datasets\n",
        "final_df = pd.merge(manufacturing_emissions, logistics_emissions, on='Date', how='outer', suffixes=('_manufacturing', '_logistics'))\n",
        "final_df = pd.merge(final_df, offices_emissions, on='Date', how='outer', suffixes=('', '_offices'))\n",
        "final_df = pd.merge(final_df, employee_emissions, on='Date', how='outer', suffixes=('', '_employee'))\n",
        "final_df = pd.merge(final_df, product_emissions, on='Date', how='outer', suffixes=('', '_product'))\n",
        "final_df = pd.merge(final_df, rnd_emissions, on='Date', how='outer', suffixes=('', '_rnd'))\n",
        "final_df = pd.merge(final_df, iot_emissions, on='Date', how='outer', suffixes=('', '_iot'))\n",
        "final_df = pd.merge(final_df, electricity_bills_emissions, on='Date', how='outer', suffixes=('', '_electricity'))"
      ],
      "metadata": {
        "id": "syQT1xgUdV4C"
      },
      "execution_count": null,
      "outputs": []
    },
    {
      "cell_type": "code",
      "source": [
        "# Define a list of columns to exclude from numeric conversion\n",
        "exclude_columns = ['Date', 'Product ID', 'Scope'] + [col for col in final_df.columns if 'scope' in col.lower()]"
      ],
      "metadata": {
        "id": "txiRr0500qIu"
      },
      "execution_count": null,
      "outputs": []
    },
    {
      "cell_type": "code",
      "source": [
        "# Convert all columns except those in exclude_columns list to numeric, coercing errors to NaN\n",
        "final_df = final_df.apply(lambda col: pd.to_numeric(col, errors='coerce') if col.name not in exclude_columns else col)\n",
        "\n",
        "# Add a new column to aggregate the CO2 emissions across all sources, excluding the 'Date' column\n",
        "final_df['Total_CO2_Emissions (kg)'] = final_df.drop(columns=exclude_columns).filter(like='CO2 Emissions').sum(axis=1, skipna=True)"
      ],
      "metadata": {
        "id": "58oxAmird4MB"
      },
      "execution_count": null,
      "outputs": []
    },
    {
      "cell_type": "code",
      "source": [
        "# Apply the function to determine the 'Scope' based on emission source in the column name\n",
        "final_df['Scope'] = final_df.columns.str.extract(r'_(manufacturing|logistics|offices|employee|product|rnd|iot|electricity)')[0].apply(categorize_scope)"
      ],
      "metadata": {
        "id": "4xycEF3EAU9k"
      },
      "execution_count": null,
      "outputs": []
    },
    {
      "cell_type": "code",
      "source": [
        "# If you want to store this information in a new dataset with only the Total CO2 Emissions\n",
        "total_emissions_df = final_df[['Date', 'Total_CO2_Emissions (kg)']]"
      ],
      "metadata": {
        "id": "rX0hzXAJEhRl"
      },
      "execution_count": null,
      "outputs": []
    },
    {
      "cell_type": "code",
      "source": [
        "# Save the final dataset to a CSV file\n",
        "final_df.to_csv(\"/content/dataset_csv/combined_co2_emissions.csv\", index=False)"
      ],
      "metadata": {
        "id": "bChpf64phBUV"
      },
      "execution_count": null,
      "outputs": []
    },
    {
      "cell_type": "code",
      "source": [
        "# Save the final dataset to a CSV file\n",
        "final_df.to_csv(\"/content/report/combined_co2_emissions.csv\", index=False)"
      ],
      "metadata": {
        "id": "jgrBwRLdZEq6"
      },
      "execution_count": null,
      "outputs": []
    },
    {
      "cell_type": "code",
      "source": [
        "# Save the dataset with only the total emissions to a separate CSV file\n",
        "total_emissions_df.to_csv(\"/content/dataset_csv/total_co2_emissions_only.csv\", index=False)"
      ],
      "metadata": {
        "id": "m0ppgnXNE108"
      },
      "execution_count": null,
      "outputs": []
    },
    {
      "cell_type": "code",
      "source": [
        "# Save the dataset with only the total emissions to a separate CSV file\n",
        "total_emissions_df.to_csv(\"/content/report/total_co2_emissions_only.csv\", index=False)"
      ],
      "metadata": {
        "id": "MF8M1BEhZMI1"
      },
      "execution_count": null,
      "outputs": []
    },
    {
      "cell_type": "code",
      "source": [
        "# Print first few rows of the final dataset\n",
        "print(final_df.head())"
      ],
      "metadata": {
        "colab": {
          "base_uri": "https://localhost:8080/"
        },
        "id": "xIY7VaiWh_Jl",
        "outputId": "2da48206-56af-419b-8bba-e72ce6689b43"
      },
      "execution_count": null,
      "outputs": [
        {
          "output_type": "stream",
          "name": "stdout",
          "text": [
            "         Date  CO2 Emissions (kg)_manufacturing Scope_manufacturing  \\\n",
            "0  2025-03-01                               450             Scope 1   \n",
            "1  2025-03-02                               410             Scope 1   \n",
            "2  2025-03-03                               490             Scope 1   \n",
            "3  2025-03-04                               460             Scope 1   \n",
            "4  2025-03-05                               530             Scope 1   \n",
            "\n",
            "   CO2 Emissions (kg)_logistics Scope_logistics  CO2 Emissions (kg)    Scope  \\\n",
            "0                         125.0         Scope 3                 320     None   \n",
            "1                         375.0         Scope 3                 340  Scope 1   \n",
            "2                         250.0         Scope 3                 348  Scope 1   \n",
            "3                         300.0         Scope 3                 312  Scope 3   \n",
            "4                         200.0         Scope 3                 360  Scope 3   \n",
            "\n",
            "   CO2 Emissions (kg)_employee Scope_employee Product ID  \\\n",
            "0                        10.00        Scope 3     E+H001   \n",
            "1                        20.00        Scope 3     E+H002   \n",
            "2                         8.75        Scope 3     E+H003   \n",
            "3                        12.50        Scope 3     E+H004   \n",
            "4                        20.00        Scope 3     E+H005   \n",
            "\n",
            "   CO2 Emissions from Product Use (kg CO2) Scope_product  \\\n",
            "0                                      600       Scope 3   \n",
            "1                                     1050       Scope 3   \n",
            "2                                      600       Scope 3   \n",
            "3                                     1040       Scope 3   \n",
            "4                                      550       Scope 3   \n",
            "\n",
            "   CO2 Emissions (kg)_rnd Scope_rnd  CO2 Emissions (kg CO2) Scope_iot  \\\n",
            "0                      40   Scope 1                    20.0   Scope 3   \n",
            "1                      48   Scope 1                     NaN   Scope 3   \n",
            "2                      52   Scope 1                    18.0   Scope 3   \n",
            "3                      44   Scope 1                     NaN   Scope 3   \n",
            "4                      56   Scope 1                    24.0   Scope 3   \n",
            "\n",
            "   CO2 Emissions (kg CO2)_electricity Scope_electricity  \\\n",
            "0                                 560           Scope 2   \n",
            "1                                 580           Scope 2   \n",
            "2                                 600           Scope 2   \n",
            "3                                 640           Scope 2   \n",
            "4                                 620           Scope 2   \n",
            "\n",
            "   Total_CO2_Emissions (kg)  \n",
            "0                   2125.00  \n",
            "1                   2823.00  \n",
            "2                   2366.75  \n",
            "3                   2808.50  \n",
            "4                   2360.00  \n"
          ]
        }
      ]
    },
    {
      "cell_type": "markdown",
      "source": [
        "# Explanation:\n",
        "1.\t**Loading Data:** We assume that the datasets are stored as CSV files. The pd.read_csv() function loads each dataset into a DataFrame.\n",
        "2.\t**Extracting CO2 Emissions:** We select the relevant columns that contain CO2 emissions data. The assumption is that each dataset has a column for CO2 emissions. If the column names differ, you should adjust the column names accordingly.\n",
        "3.\t**categorize_scope() Function:** This function assigns the proper scope based on the emission source. We pass the source name (which you can modify to match your dataset) and categorize it as Scope 1, Scope 2, or Scope 3.\n",
        "4.\t**Adding Scope to the Datasets:** Each dataset is given a new column (Scope), where we specify which scope applies to each emission source.\n",
        "5.\t**Merging Data:** We merge all the datasets on the 'Date' column. If the date column differs between datasets, you can adjust this. We're using an outer join (how='outer') to ensure that we keep all data points, even if a specific date doesn't exist in every dataset.\n",
        "6.\t**Summing Emissions:** After merging, we add a column called Total_CO2_Emissions (kg) that sums all emissions-related columns for each date, providing a total CO2 footprint for that day.\n",
        "7.\t**Saving the Final Dataset:** We then save the combined dataset to a CSV file using to_csv().\n",
        "8.\t**Printing the Data:** The script prints the first few rows of the final dataset to give you a preview of the combined data.\n"
      ],
      "metadata": {
        "id": "o1VAuXspieu1"
      }
    },
    {
      "cell_type": "code",
      "source": [],
      "metadata": {
        "id": "p950ZwK5iBLl"
      },
      "execution_count": null,
      "outputs": []
    }
  ]
}